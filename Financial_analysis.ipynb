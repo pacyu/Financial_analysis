{
 "cells": [
  {
   "cell_type": "code",
   "execution_count": 1,
   "metadata": {},
   "outputs": [
    {
     "data": {
      "text/html": [
       "<div>\n",
       "<style scoped>\n",
       "    .dataframe tbody tr th:only-of-type {\n",
       "        vertical-align: middle;\n",
       "    }\n",
       "\n",
       "    .dataframe tbody tr th {\n",
       "        vertical-align: top;\n",
       "    }\n",
       "\n",
       "    .dataframe thead th {\n",
       "        text-align: right;\n",
       "    }\n",
       "</style>\n",
       "<table border=\"1\" class=\"dataframe\">\n",
       "  <thead>\n",
       "    <tr style=\"text-align: right;\">\n",
       "      <th></th>\n",
       "      <th>Index</th>\n",
       "      <th>SPTR Index</th>\n",
       "      <th>FNERTR Index</th>\n",
       "      <th>RU10INTR Index</th>\n",
       "      <th>SPGSCITR Index</th>\n",
       "      <th>GDDUEAFE Index</th>\n",
       "      <th>LBUSTRUU Index</th>\n",
       "      <th>LF98TRUU Index</th>\n",
       "      <th>GDLEEGF Index</th>\n",
       "    </tr>\n",
       "  </thead>\n",
       "  <tbody>\n",
       "    <tr>\n",
       "      <th>0</th>\n",
       "      <td>1999-01-04</td>\n",
       "      <td>1668.521</td>\n",
       "      <td>2526.2561</td>\n",
       "      <td>2522.621</td>\n",
       "      <td>1992.325</td>\n",
       "      <td>3312.732</td>\n",
       "      <td>840.31</td>\n",
       "      <td>536.88</td>\n",
       "      <td>16353.000</td>\n",
       "    </tr>\n",
       "    <tr>\n",
       "      <th>1</th>\n",
       "      <td>1999-01-05</td>\n",
       "      <td>1691.253</td>\n",
       "      <td>2535.7539</td>\n",
       "      <td>2553.651</td>\n",
       "      <td>1975.145</td>\n",
       "      <td>3334.567</td>\n",
       "      <td>838.85</td>\n",
       "      <td>537.14</td>\n",
       "      <td>16412.156</td>\n",
       "    </tr>\n",
       "    <tr>\n",
       "      <th>2</th>\n",
       "      <td>1999-01-06</td>\n",
       "      <td>1729.083</td>\n",
       "      <td>2539.5659</td>\n",
       "      <td>2608.138</td>\n",
       "      <td>2033.986</td>\n",
       "      <td>3383.917</td>\n",
       "      <td>840.25</td>\n",
       "      <td>537.63</td>\n",
       "      <td>16785.383</td>\n",
       "    </tr>\n",
       "    <tr>\n",
       "      <th>3</th>\n",
       "      <td>1999-01-07</td>\n",
       "      <td>1725.640</td>\n",
       "      <td>2522.4280</td>\n",
       "      <td>2605.670</td>\n",
       "      <td>2038.249</td>\n",
       "      <td>3363.649</td>\n",
       "      <td>838.69</td>\n",
       "      <td>537.99</td>\n",
       "      <td>17000.391</td>\n",
       "    </tr>\n",
       "    <tr>\n",
       "      <th>4</th>\n",
       "      <td>1999-01-08</td>\n",
       "      <td>1732.925</td>\n",
       "      <td>2523.1851</td>\n",
       "      <td>2616.827</td>\n",
       "      <td>2045.915</td>\n",
       "      <td>3343.808</td>\n",
       "      <td>836.07</td>\n",
       "      <td>538.79</td>\n",
       "      <td>16941.010</td>\n",
       "    </tr>\n",
       "    <tr>\n",
       "      <th>...</th>\n",
       "      <td>...</td>\n",
       "      <td>...</td>\n",
       "      <td>...</td>\n",
       "      <td>...</td>\n",
       "      <td>...</td>\n",
       "      <td>...</td>\n",
       "      <td>...</td>\n",
       "      <td>...</td>\n",
       "      <td>...</td>\n",
       "    </tr>\n",
       "    <tr>\n",
       "      <th>4512</th>\n",
       "      <td>2016-12-02</td>\n",
       "      <td>4182.810</td>\n",
       "      <td>15161.0200</td>\n",
       "      <td>6655.233</td>\n",
       "      <td>2364.620</td>\n",
       "      <td>6264.538</td>\n",
       "      <td>1971.84</td>\n",
       "      <td>1782.68</td>\n",
       "      <td>100422.664</td>\n",
       "    </tr>\n",
       "    <tr>\n",
       "      <th>4513</th>\n",
       "      <td>2016-12-05</td>\n",
       "      <td>4207.565</td>\n",
       "      <td>15281.3600</td>\n",
       "      <td>6697.669</td>\n",
       "      <td>2387.900</td>\n",
       "      <td>6289.992</td>\n",
       "      <td>1972.37</td>\n",
       "      <td>1786.18</td>\n",
       "      <td>100425.672</td>\n",
       "    </tr>\n",
       "    <tr>\n",
       "      <th>4514</th>\n",
       "      <td>2016-12-06</td>\n",
       "      <td>4222.036</td>\n",
       "      <td>15350.7900</td>\n",
       "      <td>6724.738</td>\n",
       "      <td>2369.230</td>\n",
       "      <td>6351.167</td>\n",
       "      <td>1971.80</td>\n",
       "      <td>1791.72</td>\n",
       "      <td>101024.734</td>\n",
       "    </tr>\n",
       "    <tr>\n",
       "      <th>4515</th>\n",
       "      <td>2016-12-07</td>\n",
       "      <td>4278.438</td>\n",
       "      <td>15667.8000</td>\n",
       "      <td>6812.219</td>\n",
       "      <td>2342.140</td>\n",
       "      <td>6426.821</td>\n",
       "      <td>1977.18</td>\n",
       "      <td>1798.51</td>\n",
       "      <td>101428.352</td>\n",
       "    </tr>\n",
       "    <tr>\n",
       "      <th>4516</th>\n",
       "      <td>2016-12-08</td>\n",
       "      <td>4288.104</td>\n",
       "      <td>15754.8700</td>\n",
       "      <td>6831.300</td>\n",
       "      <td>2360.020</td>\n",
       "      <td>6436.620</td>\n",
       "      <td>1973.80</td>\n",
       "      <td>1800.94</td>\n",
       "      <td>102656.453</td>\n",
       "    </tr>\n",
       "  </tbody>\n",
       "</table>\n",
       "<p>4517 rows × 9 columns</p>\n",
       "</div>"
      ],
      "text/plain": [
       "          Index  SPTR Index  FNERTR Index  RU10INTR Index  SPGSCITR Index  \\\n",
       "0    1999-01-04    1668.521     2526.2561        2522.621        1992.325   \n",
       "1    1999-01-05    1691.253     2535.7539        2553.651        1975.145   \n",
       "2    1999-01-06    1729.083     2539.5659        2608.138        2033.986   \n",
       "3    1999-01-07    1725.640     2522.4280        2605.670        2038.249   \n",
       "4    1999-01-08    1732.925     2523.1851        2616.827        2045.915   \n",
       "...         ...         ...           ...             ...             ...   \n",
       "4512 2016-12-02    4182.810    15161.0200        6655.233        2364.620   \n",
       "4513 2016-12-05    4207.565    15281.3600        6697.669        2387.900   \n",
       "4514 2016-12-06    4222.036    15350.7900        6724.738        2369.230   \n",
       "4515 2016-12-07    4278.438    15667.8000        6812.219        2342.140   \n",
       "4516 2016-12-08    4288.104    15754.8700        6831.300        2360.020   \n",
       "\n",
       "      GDDUEAFE Index  LBUSTRUU Index  LF98TRUU Index  GDLEEGF Index  \n",
       "0           3312.732          840.31          536.88      16353.000  \n",
       "1           3334.567          838.85          537.14      16412.156  \n",
       "2           3383.917          840.25          537.63      16785.383  \n",
       "3           3363.649          838.69          537.99      17000.391  \n",
       "4           3343.808          836.07          538.79      16941.010  \n",
       "...              ...             ...             ...            ...  \n",
       "4512        6264.538         1971.84         1782.68     100422.664  \n",
       "4513        6289.992         1972.37         1786.18     100425.672  \n",
       "4514        6351.167         1971.80         1791.72     101024.734  \n",
       "4515        6426.821         1977.18         1798.51     101428.352  \n",
       "4516        6436.620         1973.80         1800.94     102656.453  \n",
       "\n",
       "[4517 rows x 9 columns]"
      ]
     },
     "execution_count": 1,
     "metadata": {},
     "output_type": "execute_result"
    }
   ],
   "source": [
    "import pandas as pd\n",
    "import numpy as np\n",
    "\n",
    "df = pd.read_excel('prices_multiasset_portfolio_1292016_Data_Set.xlsx')\n",
    "df"
   ]
  },
  {
   "cell_type": "code",
   "execution_count": 2,
   "metadata": {},
   "outputs": [
    {
     "data": {
      "text/plain": [
       "array([[  1668.521 ,   2526.2561,   2522.621 , ...,    840.31  ,\n",
       "           536.88  ,  16353.    ],\n",
       "       [  1691.253 ,   2535.7539,   2553.651 , ...,    838.85  ,\n",
       "           537.14  ,  16412.156 ],\n",
       "       [  1729.083 ,   2539.5659,   2608.138 , ...,    840.25  ,\n",
       "           537.63  ,  16785.383 ],\n",
       "       ...,\n",
       "       [  4222.036 ,  15350.79  ,   6724.738 , ...,   1971.8   ,\n",
       "          1791.72  , 101024.734 ],\n",
       "       [  4278.438 ,  15667.8   ,   6812.219 , ...,   1977.18  ,\n",
       "          1798.51  , 101428.352 ],\n",
       "       [  4288.104 ,  15754.87  ,   6831.3   , ...,   1973.8   ,\n",
       "          1800.94  , 102656.453 ]])"
      ]
     },
     "execution_count": 2,
     "metadata": {},
     "output_type": "execute_result"
    }
   ],
   "source": [
    "df.loc[:, 'SPTR Index':'GDLEEGF Index'].values"
   ]
  },
  {
   "cell_type": "markdown",
   "metadata": {},
   "source": [
    "### 一、 计算 linear returns 和 compounded returns"
   ]
  },
  {
   "cell_type": "code",
   "execution_count": 3,
   "metadata": {},
   "outputs": [],
   "source": [
    "linear = {'sptr': [], 'fnertr': [], 'ru10intr': [], 'spgscitr': [], 'gddueafe': [], 'lbustruu': [], 'lf98truu': [], 'gdleegf': []}\n",
    "compounded = {'sptr': [], 'fnertr': [], 'ru10intr': [], 'spgscitr': [], 'gddueafe': [], 'lbustruu': [], 'lf98truu': [], 'gdleegf': []}\n",
    "\n",
    "data = df.loc[:, 'SPTR Index':'GDLEEGF Index'].values\n",
    "vi = data[0, :]\n",
    "for i, _ in enumerate(data):\n",
    "    lr = _ / vi - 1\n",
    "    cr = np.log(_ / vi)\n",
    "    linear['sptr'].append(lr[0])\n",
    "    linear['fnertr'].append(lr[1])\n",
    "    linear['ru10intr'].append(lr[2])\n",
    "    linear['spgscitr'].append(lr[3])\n",
    "    linear['gddueafe'].append(lr[4])\n",
    "    linear['lbustruu'].append(lr[5])\n",
    "    linear['lf98truu'].append(lr[6])\n",
    "    linear['gdleegf'].append(lr[7])\n",
    "\n",
    "    compounded['sptr'].append(cr[0])\n",
    "    compounded['fnertr'].append(cr[1])\n",
    "    compounded['ru10intr'].append(cr[2])\n",
    "    compounded['spgscitr'].append(cr[3])\n",
    "    compounded['gddueafe'].append(cr[4])\n",
    "    compounded['lbustruu'].append(cr[5])\n",
    "    compounded['lf98truu'].append(cr[6])\n",
    "    compounded['gdleegf'].append(cr[7])\n",
    "\n",
    "    vi = _\n",
    "ldf = pd.DataFrame(linear)\n",
    "cdf = pd.DataFrame(compounded)"
   ]
  },
  {
   "cell_type": "code",
   "execution_count": 4,
   "metadata": {},
   "outputs": [
    {
     "data": {
      "text/html": [
       "<div>\n",
       "<style scoped>\n",
       "    .dataframe tbody tr th:only-of-type {\n",
       "        vertical-align: middle;\n",
       "    }\n",
       "\n",
       "    .dataframe tbody tr th {\n",
       "        vertical-align: top;\n",
       "    }\n",
       "\n",
       "    .dataframe thead th {\n",
       "        text-align: right;\n",
       "    }\n",
       "</style>\n",
       "<table border=\"1\" class=\"dataframe\">\n",
       "  <thead>\n",
       "    <tr style=\"text-align: right;\">\n",
       "      <th></th>\n",
       "      <th>sptr</th>\n",
       "      <th>fnertr</th>\n",
       "      <th>ru10intr</th>\n",
       "      <th>spgscitr</th>\n",
       "      <th>gddueafe</th>\n",
       "      <th>lbustruu</th>\n",
       "      <th>lf98truu</th>\n",
       "      <th>gdleegf</th>\n",
       "    </tr>\n",
       "  </thead>\n",
       "  <tbody>\n",
       "    <tr>\n",
       "      <th>0</th>\n",
       "      <td>0.000000</td>\n",
       "      <td>0.000000</td>\n",
       "      <td>0.000000</td>\n",
       "      <td>0.000000</td>\n",
       "      <td>0.000000</td>\n",
       "      <td>0.000000</td>\n",
       "      <td>0.000000</td>\n",
       "      <td>0.000000</td>\n",
       "    </tr>\n",
       "    <tr>\n",
       "      <th>1</th>\n",
       "      <td>0.013624</td>\n",
       "      <td>0.003760</td>\n",
       "      <td>0.012301</td>\n",
       "      <td>-0.008623</td>\n",
       "      <td>0.006591</td>\n",
       "      <td>-0.001737</td>\n",
       "      <td>0.000484</td>\n",
       "      <td>0.003617</td>\n",
       "    </tr>\n",
       "    <tr>\n",
       "      <th>2</th>\n",
       "      <td>0.022368</td>\n",
       "      <td>0.001503</td>\n",
       "      <td>0.021337</td>\n",
       "      <td>0.029791</td>\n",
       "      <td>0.014800</td>\n",
       "      <td>0.001669</td>\n",
       "      <td>0.000912</td>\n",
       "      <td>0.022741</td>\n",
       "    </tr>\n",
       "    <tr>\n",
       "      <th>3</th>\n",
       "      <td>-0.001991</td>\n",
       "      <td>-0.006748</td>\n",
       "      <td>-0.000946</td>\n",
       "      <td>0.002096</td>\n",
       "      <td>-0.005990</td>\n",
       "      <td>-0.001857</td>\n",
       "      <td>0.000670</td>\n",
       "      <td>0.012809</td>\n",
       "    </tr>\n",
       "    <tr>\n",
       "      <th>4</th>\n",
       "      <td>0.004222</td>\n",
       "      <td>0.000300</td>\n",
       "      <td>0.004282</td>\n",
       "      <td>0.003761</td>\n",
       "      <td>-0.005899</td>\n",
       "      <td>-0.003124</td>\n",
       "      <td>0.001487</td>\n",
       "      <td>-0.003493</td>\n",
       "    </tr>\n",
       "    <tr>\n",
       "      <th>...</th>\n",
       "      <td>...</td>\n",
       "      <td>...</td>\n",
       "      <td>...</td>\n",
       "      <td>...</td>\n",
       "      <td>...</td>\n",
       "      <td>...</td>\n",
       "      <td>...</td>\n",
       "      <td>...</td>\n",
       "    </tr>\n",
       "    <tr>\n",
       "      <th>4512</th>\n",
       "      <td>0.000397</td>\n",
       "      <td>0.010506</td>\n",
       "      <td>0.000402</td>\n",
       "      <td>0.004221</td>\n",
       "      <td>-0.000226</td>\n",
       "      <td>0.002965</td>\n",
       "      <td>0.001016</td>\n",
       "      <td>-0.006628</td>\n",
       "    </tr>\n",
       "    <tr>\n",
       "      <th>4513</th>\n",
       "      <td>0.005918</td>\n",
       "      <td>0.007937</td>\n",
       "      <td>0.006376</td>\n",
       "      <td>0.009845</td>\n",
       "      <td>0.004063</td>\n",
       "      <td>0.000269</td>\n",
       "      <td>0.001963</td>\n",
       "      <td>0.000030</td>\n",
       "    </tr>\n",
       "    <tr>\n",
       "      <th>4514</th>\n",
       "      <td>0.003439</td>\n",
       "      <td>0.004543</td>\n",
       "      <td>0.004042</td>\n",
       "      <td>-0.007819</td>\n",
       "      <td>0.009726</td>\n",
       "      <td>-0.000289</td>\n",
       "      <td>0.003102</td>\n",
       "      <td>0.005965</td>\n",
       "    </tr>\n",
       "    <tr>\n",
       "      <th>4515</th>\n",
       "      <td>0.013359</td>\n",
       "      <td>0.020651</td>\n",
       "      <td>0.013009</td>\n",
       "      <td>-0.011434</td>\n",
       "      <td>0.011912</td>\n",
       "      <td>0.002728</td>\n",
       "      <td>0.003790</td>\n",
       "      <td>0.003995</td>\n",
       "    </tr>\n",
       "    <tr>\n",
       "      <th>4516</th>\n",
       "      <td>0.002259</td>\n",
       "      <td>0.005557</td>\n",
       "      <td>0.002801</td>\n",
       "      <td>0.007634</td>\n",
       "      <td>0.001525</td>\n",
       "      <td>-0.001710</td>\n",
       "      <td>0.001351</td>\n",
       "      <td>0.012108</td>\n",
       "    </tr>\n",
       "  </tbody>\n",
       "</table>\n",
       "<p>4517 rows × 8 columns</p>\n",
       "</div>"
      ],
      "text/plain": [
       "          sptr    fnertr  ru10intr  spgscitr  gddueafe  lbustruu  lf98truu  \\\n",
       "0     0.000000  0.000000  0.000000  0.000000  0.000000  0.000000  0.000000   \n",
       "1     0.013624  0.003760  0.012301 -0.008623  0.006591 -0.001737  0.000484   \n",
       "2     0.022368  0.001503  0.021337  0.029791  0.014800  0.001669  0.000912   \n",
       "3    -0.001991 -0.006748 -0.000946  0.002096 -0.005990 -0.001857  0.000670   \n",
       "4     0.004222  0.000300  0.004282  0.003761 -0.005899 -0.003124  0.001487   \n",
       "...        ...       ...       ...       ...       ...       ...       ...   \n",
       "4512  0.000397  0.010506  0.000402  0.004221 -0.000226  0.002965  0.001016   \n",
       "4513  0.005918  0.007937  0.006376  0.009845  0.004063  0.000269  0.001963   \n",
       "4514  0.003439  0.004543  0.004042 -0.007819  0.009726 -0.000289  0.003102   \n",
       "4515  0.013359  0.020651  0.013009 -0.011434  0.011912  0.002728  0.003790   \n",
       "4516  0.002259  0.005557  0.002801  0.007634  0.001525 -0.001710  0.001351   \n",
       "\n",
       "       gdleegf  \n",
       "0     0.000000  \n",
       "1     0.003617  \n",
       "2     0.022741  \n",
       "3     0.012809  \n",
       "4    -0.003493  \n",
       "...        ...  \n",
       "4512 -0.006628  \n",
       "4513  0.000030  \n",
       "4514  0.005965  \n",
       "4515  0.003995  \n",
       "4516  0.012108  \n",
       "\n",
       "[4517 rows x 8 columns]"
      ]
     },
     "execution_count": 4,
     "metadata": {},
     "output_type": "execute_result"
    }
   ],
   "source": [
    "ldf"
   ]
  },
  {
   "cell_type": "code",
   "execution_count": 5,
   "metadata": {},
   "outputs": [
    {
     "data": {
      "text/html": [
       "<div>\n",
       "<style scoped>\n",
       "    .dataframe tbody tr th:only-of-type {\n",
       "        vertical-align: middle;\n",
       "    }\n",
       "\n",
       "    .dataframe tbody tr th {\n",
       "        vertical-align: top;\n",
       "    }\n",
       "\n",
       "    .dataframe thead th {\n",
       "        text-align: right;\n",
       "    }\n",
       "</style>\n",
       "<table border=\"1\" class=\"dataframe\">\n",
       "  <thead>\n",
       "    <tr style=\"text-align: right;\">\n",
       "      <th></th>\n",
       "      <th>sptr</th>\n",
       "      <th>fnertr</th>\n",
       "      <th>ru10intr</th>\n",
       "      <th>spgscitr</th>\n",
       "      <th>gddueafe</th>\n",
       "      <th>lbustruu</th>\n",
       "      <th>lf98truu</th>\n",
       "      <th>gdleegf</th>\n",
       "    </tr>\n",
       "  </thead>\n",
       "  <tbody>\n",
       "    <tr>\n",
       "      <th>0</th>\n",
       "      <td>0.000000</td>\n",
       "      <td>0.000000</td>\n",
       "      <td>0.000000</td>\n",
       "      <td>0.000000</td>\n",
       "      <td>0.000000</td>\n",
       "      <td>0.000000</td>\n",
       "      <td>0.000000</td>\n",
       "      <td>0.000000</td>\n",
       "    </tr>\n",
       "    <tr>\n",
       "      <th>1</th>\n",
       "      <td>0.013532</td>\n",
       "      <td>0.003753</td>\n",
       "      <td>0.012226</td>\n",
       "      <td>-0.008660</td>\n",
       "      <td>0.006570</td>\n",
       "      <td>-0.001739</td>\n",
       "      <td>0.000484</td>\n",
       "      <td>0.003611</td>\n",
       "    </tr>\n",
       "    <tr>\n",
       "      <th>2</th>\n",
       "      <td>0.022122</td>\n",
       "      <td>0.001502</td>\n",
       "      <td>0.021112</td>\n",
       "      <td>0.029356</td>\n",
       "      <td>0.014691</td>\n",
       "      <td>0.001668</td>\n",
       "      <td>0.000912</td>\n",
       "      <td>0.022486</td>\n",
       "    </tr>\n",
       "    <tr>\n",
       "      <th>3</th>\n",
       "      <td>-0.001993</td>\n",
       "      <td>-0.006771</td>\n",
       "      <td>-0.000947</td>\n",
       "      <td>0.002094</td>\n",
       "      <td>-0.006008</td>\n",
       "      <td>-0.001858</td>\n",
       "      <td>0.000669</td>\n",
       "      <td>0.012728</td>\n",
       "    </tr>\n",
       "    <tr>\n",
       "      <th>4</th>\n",
       "      <td>0.004213</td>\n",
       "      <td>0.000300</td>\n",
       "      <td>0.004273</td>\n",
       "      <td>0.003754</td>\n",
       "      <td>-0.005916</td>\n",
       "      <td>-0.003129</td>\n",
       "      <td>0.001486</td>\n",
       "      <td>-0.003499</td>\n",
       "    </tr>\n",
       "    <tr>\n",
       "      <th>...</th>\n",
       "      <td>...</td>\n",
       "      <td>...</td>\n",
       "      <td>...</td>\n",
       "      <td>...</td>\n",
       "      <td>...</td>\n",
       "      <td>...</td>\n",
       "      <td>...</td>\n",
       "      <td>...</td>\n",
       "    </tr>\n",
       "    <tr>\n",
       "      <th>4512</th>\n",
       "      <td>0.000397</td>\n",
       "      <td>0.010451</td>\n",
       "      <td>0.000402</td>\n",
       "      <td>0.004212</td>\n",
       "      <td>-0.000226</td>\n",
       "      <td>0.002961</td>\n",
       "      <td>0.001016</td>\n",
       "      <td>-0.006650</td>\n",
       "    </tr>\n",
       "    <tr>\n",
       "      <th>4513</th>\n",
       "      <td>0.005901</td>\n",
       "      <td>0.007906</td>\n",
       "      <td>0.006356</td>\n",
       "      <td>0.009797</td>\n",
       "      <td>0.004055</td>\n",
       "      <td>0.000269</td>\n",
       "      <td>0.001961</td>\n",
       "      <td>0.000030</td>\n",
       "    </tr>\n",
       "    <tr>\n",
       "      <th>4514</th>\n",
       "      <td>0.003433</td>\n",
       "      <td>0.004533</td>\n",
       "      <td>0.004033</td>\n",
       "      <td>-0.007849</td>\n",
       "      <td>0.009679</td>\n",
       "      <td>-0.000289</td>\n",
       "      <td>0.003097</td>\n",
       "      <td>0.005948</td>\n",
       "    </tr>\n",
       "    <tr>\n",
       "      <th>4515</th>\n",
       "      <td>0.013271</td>\n",
       "      <td>0.020441</td>\n",
       "      <td>0.012925</td>\n",
       "      <td>-0.011500</td>\n",
       "      <td>0.011841</td>\n",
       "      <td>0.002725</td>\n",
       "      <td>0.003782</td>\n",
       "      <td>0.003987</td>\n",
       "    </tr>\n",
       "    <tr>\n",
       "      <th>4516</th>\n",
       "      <td>0.002257</td>\n",
       "      <td>0.005542</td>\n",
       "      <td>0.002797</td>\n",
       "      <td>0.007605</td>\n",
       "      <td>0.001524</td>\n",
       "      <td>-0.001711</td>\n",
       "      <td>0.001350</td>\n",
       "      <td>0.012035</td>\n",
       "    </tr>\n",
       "  </tbody>\n",
       "</table>\n",
       "<p>4517 rows × 8 columns</p>\n",
       "</div>"
      ],
      "text/plain": [
       "          sptr    fnertr  ru10intr  spgscitr  gddueafe  lbustruu  lf98truu  \\\n",
       "0     0.000000  0.000000  0.000000  0.000000  0.000000  0.000000  0.000000   \n",
       "1     0.013532  0.003753  0.012226 -0.008660  0.006570 -0.001739  0.000484   \n",
       "2     0.022122  0.001502  0.021112  0.029356  0.014691  0.001668  0.000912   \n",
       "3    -0.001993 -0.006771 -0.000947  0.002094 -0.006008 -0.001858  0.000669   \n",
       "4     0.004213  0.000300  0.004273  0.003754 -0.005916 -0.003129  0.001486   \n",
       "...        ...       ...       ...       ...       ...       ...       ...   \n",
       "4512  0.000397  0.010451  0.000402  0.004212 -0.000226  0.002961  0.001016   \n",
       "4513  0.005901  0.007906  0.006356  0.009797  0.004055  0.000269  0.001961   \n",
       "4514  0.003433  0.004533  0.004033 -0.007849  0.009679 -0.000289  0.003097   \n",
       "4515  0.013271  0.020441  0.012925 -0.011500  0.011841  0.002725  0.003782   \n",
       "4516  0.002257  0.005542  0.002797  0.007605  0.001524 -0.001711  0.001350   \n",
       "\n",
       "       gdleegf  \n",
       "0     0.000000  \n",
       "1     0.003611  \n",
       "2     0.022486  \n",
       "3     0.012728  \n",
       "4    -0.003499  \n",
       "...        ...  \n",
       "4512 -0.006650  \n",
       "4513  0.000030  \n",
       "4514  0.005948  \n",
       "4515  0.003987  \n",
       "4516  0.012035  \n",
       "\n",
       "[4517 rows x 8 columns]"
      ]
     },
     "execution_count": 5,
     "metadata": {},
     "output_type": "execute_result"
    }
   ],
   "source": [
    "cdf"
   ]
  },
  {
   "cell_type": "markdown",
   "metadata": {},
   "source": [
    "### 二、计算 mean, standard deviation, skewness and kurtosis"
   ]
  },
  {
   "cell_type": "code",
   "execution_count": 8,
   "metadata": {},
   "outputs": [
    {
     "data": {
      "text/plain": [
       "sptr        0.000286\n",
       "fnertr      0.000572\n",
       "ru10intr    0.000298\n",
       "spgscitr    0.000148\n",
       "gddueafe    0.000213\n",
       "lbustruu    0.000192\n",
       "lf98truu    0.000273\n",
       "gdleegf     0.000459\n",
       "dtype: float64"
      ]
     },
     "execution_count": 8,
     "metadata": {},
     "output_type": "execute_result"
    }
   ],
   "source": [
    "ldf.mean()"
   ]
  },
  {
   "cell_type": "code",
   "execution_count": 9,
   "metadata": {},
   "outputs": [
    {
     "data": {
      "text/plain": [
       "sptr        0.000209\n",
       "fnertr      0.000405\n",
       "ru10intr    0.000221\n",
       "spgscitr    0.000037\n",
       "gddueafe    0.000147\n",
       "lbustruu    0.000189\n",
       "lf98truu    0.000268\n",
       "gdleegf     0.000407\n",
       "dtype: float64"
      ]
     },
     "execution_count": 9,
     "metadata": {},
     "output_type": "execute_result"
    }
   ],
   "source": [
    "cdf.mean()"
   ]
  },
  {
   "cell_type": "code",
   "execution_count": 10,
   "metadata": {},
   "outputs": [
    {
     "data": {
      "text/plain": [
       "sptr        0.012397\n",
       "fnertr      0.018274\n",
       "ru10intr    0.012471\n",
       "spgscitr    0.014842\n",
       "gddueafe    0.011474\n",
       "lbustruu    0.002378\n",
       "lf98truu    0.003066\n",
       "gdleegf     0.010231\n",
       "dtype: float64"
      ]
     },
     "execution_count": 10,
     "metadata": {},
     "output_type": "execute_result"
    }
   ],
   "source": [
    "ldf.std()"
   ]
  },
  {
   "cell_type": "code",
   "execution_count": 11,
   "metadata": {},
   "outputs": [
    {
     "data": {
      "text/plain": [
       "sptr        0.012402\n",
       "fnertr      0.018259\n",
       "ru10intr    0.012479\n",
       "spgscitr    0.014863\n",
       "gddueafe    0.011493\n",
       "lbustruu    0.002378\n",
       "lf98truu    0.003076\n",
       "gdleegf     0.010248\n",
       "dtype: float64"
      ]
     },
     "execution_count": 11,
     "metadata": {},
     "output_type": "execute_result"
    }
   ],
   "source": [
    "cdf.std()"
   ]
  },
  {
   "cell_type": "code",
   "execution_count": 12,
   "metadata": {},
   "outputs": [
    {
     "data": {
      "text/plain": [
       "sptr        0.001393\n",
       "fnertr      0.415711\n",
       "ru10intr   -0.020910\n",
       "spgscitr   -0.140297\n",
       "gddueafe   -0.235438\n",
       "lbustruu   -0.157019\n",
       "lf98truu   -2.110203\n",
       "gdleegf    -0.321354\n",
       "dtype: float64"
      ]
     },
     "execution_count": 12,
     "metadata": {},
     "output_type": "execute_result"
    }
   ],
   "source": [
    "ldf.skew()"
   ]
  },
  {
   "cell_type": "code",
   "execution_count": 13,
   "metadata": {},
   "outputs": [
    {
     "data": {
      "text/plain": [
       "sptr       -0.182115\n",
       "fnertr     -0.199648\n",
       "ru10intr   -0.202962\n",
       "spgscitr   -0.237493\n",
       "gddueafe   -0.378606\n",
       "lbustruu   -0.169365\n",
       "lf98truu   -2.250085\n",
       "gdleegf    -0.458843\n",
       "dtype: float64"
      ]
     },
     "execution_count": 13,
     "metadata": {},
     "output_type": "execute_result"
    }
   ],
   "source": [
    "cdf.skew()"
   ]
  },
  {
   "cell_type": "code",
   "execution_count": 14,
   "metadata": {},
   "outputs": [
    {
     "data": {
      "text/plain": [
       "sptr         8.001767\n",
       "fnertr      20.662669\n",
       "ru10intr     7.846788\n",
       "spgscitr     2.346625\n",
       "gddueafe     6.371804\n",
       "lbustruu     1.488604\n",
       "lf98truu    32.291504\n",
       "gdleegf      7.117078\n",
       "dtype: float64"
      ]
     },
     "execution_count": 14,
     "metadata": {},
     "output_type": "execute_result"
    }
   ],
   "source": [
    "ldf.kurtosis()"
   ]
  },
  {
   "cell_type": "code",
   "execution_count": 15,
   "metadata": {},
   "outputs": [
    {
     "data": {
      "text/plain": [
       "sptr         7.839943\n",
       "fnertr      20.685862\n",
       "ru10intr     7.721128\n",
       "spgscitr     2.449962\n",
       "gddueafe     6.464010\n",
       "lbustruu     1.491217\n",
       "lf98truu    33.784492\n",
       "gdleegf      7.133187\n",
       "dtype: float64"
      ]
     },
     "execution_count": 15,
     "metadata": {},
     "output_type": "execute_result"
    }
   ],
   "source": [
    "cdf.kurtosis()"
   ]
  },
  {
   "cell_type": "markdown",
   "metadata": {},
   "source": [
    "### 三、Normality test"
   ]
  },
  {
   "cell_type": "code",
   "execution_count": 16,
   "metadata": {},
   "outputs": [],
   "source": [
    "from scipy import stats"
   ]
  },
  {
   "cell_type": "code",
   "execution_count": 18,
   "metadata": {},
   "outputs": [
    {
     "data": {
      "text/plain": [
       "NormaltestResult(statistic=array([ 696.65998743, 1248.78416304,  688.46520691,  266.64131088,\n",
       "        640.14035773,  167.89764067, 2750.0465936 ,  720.30455334]), pvalue=array([5.27479820e-152, 6.76027639e-272, 3.17453288e-150, 1.25769409e-058,\n",
       "       9.89207719e-140, 3.47928950e-037, 0.00000000e+000, 3.87127121e-157]))"
      ]
     },
     "execution_count": 18,
     "metadata": {},
     "output_type": "execute_result"
    }
   ],
   "source": [
    "stats.normaltest(ldf)"
   ]
  },
  {
   "cell_type": "code",
   "execution_count": 19,
   "metadata": {},
   "outputs": [
    {
     "data": {
      "text/plain": [
       "NormaltestResult(statistic=array([ 712.38779253, 1158.24421498,  711.5992516 ,  304.98476941,\n",
       "        706.6584894 ,  171.18582337, 2873.64138403,  791.63208042]), pvalue=array([2.02747900e-155, 3.09360150e-252, 3.00736300e-155, 5.93470028e-067,\n",
       "       3.55679415e-154, 6.72157062e-038, 0.00000000e+000, 1.25683390e-172]))"
      ]
     },
     "execution_count": 19,
     "metadata": {},
     "output_type": "execute_result"
    }
   ],
   "source": [
    "stats.normaltest(cdf)"
   ]
  },
  {
   "cell_type": "code",
   "execution_count": null,
   "metadata": {},
   "outputs": [],
   "source": []
  }
 ],
 "metadata": {
  "kernelspec": {
   "display_name": "Python 3",
   "language": "python",
   "name": "python3"
  },
  "language_info": {
   "codemirror_mode": {
    "name": "ipython",
    "version": 3
   },
   "file_extension": ".py",
   "mimetype": "text/x-python",
   "name": "python",
   "nbconvert_exporter": "python",
   "pygments_lexer": "ipython3",
   "version": "3.8.1"
  }
 },
 "nbformat": 4,
 "nbformat_minor": 4
}
